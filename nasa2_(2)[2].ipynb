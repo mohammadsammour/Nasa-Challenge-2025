{
  "cells": [
    {
      "cell_type": "markdown",
      "metadata": {},
      "source": [
        "# NASA Space Apps 2025: Hunting Exoplanets"
      ]
    },
    {
      "cell_type": "markdown",
      "metadata": {},
      "source": [
        "## Loading the TESS Dataset"
      ]
    },
    {
      "cell_type": "code",
      "execution_count": 1,
      "metadata": {
        "colab": {
          "base_uri": "https://localhost:8080/",
          "height": 399
        },
        "id": "UvWKv0bw7_pl",
        "outputId": "363d7a07-496c-479c-fa9b-e7f75442984f"
      },
      "outputs": [
        {
          "data": {
            "text/html": [
              "<div>\n",
              "<style scoped>\n",
              "    .dataframe tbody tr th:only-of-type {\n",
              "        vertical-align: middle;\n",
              "    }\n",
              "\n",
              "    .dataframe tbody tr th {\n",
              "        vertical-align: top;\n",
              "    }\n",
              "\n",
              "    .dataframe thead th {\n",
              "        text-align: right;\n",
              "    }\n",
              "</style>\n",
              "<table border=\"1\" class=\"dataframe\">\n",
              "  <thead>\n",
              "    <tr style=\"text-align: right;\">\n",
              "      <th></th>\n",
              "      <th>toi</th>\n",
              "      <th>tid</th>\n",
              "      <th>tfopwg_disp</th>\n",
              "      <th>rastr</th>\n",
              "      <th>ra</th>\n",
              "      <th>decstr</th>\n",
              "      <th>dec</th>\n",
              "      <th>st_pmra</th>\n",
              "      <th>st_pmraerr1</th>\n",
              "      <th>st_pmraerr2</th>\n",
              "      <th>st_pmralim</th>\n",
              "      <th>st_pmdec</th>\n",
              "      <th>st_pmdecerr1</th>\n",
              "      <th>st_pmdecerr2</th>\n",
              "      <th>st_pmdeclim</th>\n",
              "      <th>pl_tranmid</th>\n",
              "      <th>pl_tranmiderr1</th>\n",
              "      <th>pl_tranmiderr2</th>\n",
              "      <th>pl_tranmidlim</th>\n",
              "      <th>pl_orbper</th>\n",
              "      <th>pl_orbpererr1</th>\n",
              "      <th>pl_orbpererr2</th>\n",
              "      <th>pl_orbperlim</th>\n",
              "      <th>pl_trandurh</th>\n",
              "      <th>pl_trandurherr1</th>\n",
              "      <th>pl_trandurherr2</th>\n",
              "      <th>pl_trandurhlim</th>\n",
              "      <th>pl_trandep</th>\n",
              "      <th>pl_trandeperr1</th>\n",
              "      <th>pl_trandeperr2</th>\n",
              "      <th>pl_trandeplim</th>\n",
              "      <th>pl_rade</th>\n",
              "      <th>pl_radeerr1</th>\n",
              "      <th>pl_radeerr2</th>\n",
              "      <th>pl_radelim</th>\n",
              "      <th>pl_insol</th>\n",
              "      <th>pl_insolerr1</th>\n",
              "      <th>pl_insolerr2</th>\n",
              "      <th>pl_insollim</th>\n",
              "      <th>pl_eqt</th>\n",
              "      <th>pl_eqterr1</th>\n",
              "      <th>pl_eqterr2</th>\n",
              "      <th>pl_eqtlim</th>\n",
              "      <th>st_tmag</th>\n",
              "      <th>st_tmagerr1</th>\n",
              "      <th>st_tmagerr2</th>\n",
              "      <th>st_tmaglim</th>\n",
              "      <th>st_dist</th>\n",
              "      <th>st_disterr1</th>\n",
              "      <th>st_disterr2</th>\n",
              "      <th>st_distlim</th>\n",
              "      <th>st_teff</th>\n",
              "      <th>st_tefferr1</th>\n",
              "      <th>st_tefferr2</th>\n",
              "      <th>st_tefflim</th>\n",
              "      <th>st_logg</th>\n",
              "      <th>st_loggerr1</th>\n",
              "      <th>st_loggerr2</th>\n",
              "      <th>st_logglim</th>\n",
              "      <th>st_rad</th>\n",
              "      <th>st_raderr1</th>\n",
              "      <th>st_raderr2</th>\n",
              "      <th>st_radlim</th>\n",
              "      <th>toi_created</th>\n",
              "      <th>rowupdate</th>\n",
              "    </tr>\n",
              "  </thead>\n",
              "  <tbody>\n",
              "    <tr>\n",
              "      <th>0</th>\n",
              "      <td>1000.01</td>\n",
              "      <td>50365310</td>\n",
              "      <td>FP</td>\n",
              "      <td>07h29m25.85s</td>\n",
              "      <td>112.357708</td>\n",
              "      <td>-12d41m45.46s</td>\n",
              "      <td>-12.695960</td>\n",
              "      <td>-5.964</td>\n",
              "      <td>0.085</td>\n",
              "      <td>-0.085</td>\n",
              "      <td>0.0</td>\n",
              "      <td>-0.076</td>\n",
              "      <td>0.072</td>\n",
              "      <td>-0.072</td>\n",
              "      <td>0.0</td>\n",
              "      <td>2.459230e+06</td>\n",
              "      <td>0.001657</td>\n",
              "      <td>-0.001657</td>\n",
              "      <td>0</td>\n",
              "      <td>2.171348</td>\n",
              "      <td>0.000264</td>\n",
              "      <td>-0.000264</td>\n",
              "      <td>0</td>\n",
              "      <td>2.01722</td>\n",
              "      <td>0.319588</td>\n",
              "      <td>-0.319588</td>\n",
              "      <td>0</td>\n",
              "      <td>656.886099</td>\n",
              "      <td>37.778210</td>\n",
              "      <td>-37.778210</td>\n",
              "      <td>0</td>\n",
              "      <td>5.818163</td>\n",
              "      <td>1.910546</td>\n",
              "      <td>-1.910546</td>\n",
              "      <td>0</td>\n",
              "      <td>22601.948581</td>\n",
              "      <td>NaN</td>\n",
              "      <td>NaN</td>\n",
              "      <td>NaN</td>\n",
              "      <td>3127.204052</td>\n",
              "      <td>NaN</td>\n",
              "      <td>NaN</td>\n",
              "      <td>NaN</td>\n",
              "      <td>9.604000</td>\n",
              "      <td>0.013</td>\n",
              "      <td>-0.013</td>\n",
              "      <td>0</td>\n",
              "      <td>485.735</td>\n",
              "      <td>11.9515</td>\n",
              "      <td>-11.9515</td>\n",
              "      <td>0</td>\n",
              "      <td>10249.0</td>\n",
              "      <td>264.7</td>\n",
              "      <td>-264.7</td>\n",
              "      <td>0</td>\n",
              "      <td>4.19</td>\n",
              "      <td>0.07</td>\n",
              "      <td>-0.07</td>\n",
              "      <td>0</td>\n",
              "      <td>2.16986</td>\n",
              "      <td>0.072573</td>\n",
              "      <td>-0.072573</td>\n",
              "      <td>0</td>\n",
              "      <td>2019-07-24 15:58:33</td>\n",
              "      <td>2024-09-09 10:08:01</td>\n",
              "    </tr>\n",
              "    <tr>\n",
              "      <th>1</th>\n",
              "      <td>1001.01</td>\n",
              "      <td>88863718</td>\n",
              "      <td>PC</td>\n",
              "      <td>08h10m19.31s</td>\n",
              "      <td>122.580465</td>\n",
              "      <td>-05d30m49.87s</td>\n",
              "      <td>-5.513852</td>\n",
              "      <td>-4.956</td>\n",
              "      <td>0.102</td>\n",
              "      <td>-0.102</td>\n",
              "      <td>0.0</td>\n",
              "      <td>-15.555</td>\n",
              "      <td>0.072</td>\n",
              "      <td>-0.072</td>\n",
              "      <td>0.0</td>\n",
              "      <td>2.459988e+06</td>\n",
              "      <td>0.001916</td>\n",
              "      <td>-0.001916</td>\n",
              "      <td>0</td>\n",
              "      <td>1.931646</td>\n",
              "      <td>0.000005</td>\n",
              "      <td>-0.000005</td>\n",
              "      <td>0</td>\n",
              "      <td>3.16600</td>\n",
              "      <td>0.647000</td>\n",
              "      <td>-0.647000</td>\n",
              "      <td>0</td>\n",
              "      <td>1286.000000</td>\n",
              "      <td>1186.490000</td>\n",
              "      <td>-1186.490000</td>\n",
              "      <td>0</td>\n",
              "      <td>11.215400</td>\n",
              "      <td>2.624200</td>\n",
              "      <td>-2.624200</td>\n",
              "      <td>0</td>\n",
              "      <td>44464.500000</td>\n",
              "      <td>NaN</td>\n",
              "      <td>NaN</td>\n",
              "      <td>NaN</td>\n",
              "      <td>4045.000000</td>\n",
              "      <td>NaN</td>\n",
              "      <td>NaN</td>\n",
              "      <td>NaN</td>\n",
              "      <td>9.423440</td>\n",
              "      <td>0.006</td>\n",
              "      <td>-0.006</td>\n",
              "      <td>0</td>\n",
              "      <td>295.862</td>\n",
              "      <td>5.9100</td>\n",
              "      <td>-5.9100</td>\n",
              "      <td>0</td>\n",
              "      <td>7070.0</td>\n",
              "      <td>126.4</td>\n",
              "      <td>-126.4</td>\n",
              "      <td>0</td>\n",
              "      <td>4.03</td>\n",
              "      <td>0.09</td>\n",
              "      <td>-0.09</td>\n",
              "      <td>0</td>\n",
              "      <td>2.01000</td>\n",
              "      <td>0.090000</td>\n",
              "      <td>-0.090000</td>\n",
              "      <td>0</td>\n",
              "      <td>2019-07-24 15:58:33</td>\n",
              "      <td>2023-04-03 14:31:04</td>\n",
              "    </tr>\n",
              "    <tr>\n",
              "      <th>2</th>\n",
              "      <td>1002.01</td>\n",
              "      <td>124709665</td>\n",
              "      <td>FP</td>\n",
              "      <td>06h58m54.47s</td>\n",
              "      <td>104.726966</td>\n",
              "      <td>-10d34m49.64s</td>\n",
              "      <td>-10.580455</td>\n",
              "      <td>-1.462</td>\n",
              "      <td>0.206</td>\n",
              "      <td>-0.206</td>\n",
              "      <td>0.0</td>\n",
              "      <td>-2.249</td>\n",
              "      <td>0.206</td>\n",
              "      <td>-0.206</td>\n",
              "      <td>0.0</td>\n",
              "      <td>2.459225e+06</td>\n",
              "      <td>0.000625</td>\n",
              "      <td>-0.000625</td>\n",
              "      <td>0</td>\n",
              "      <td>1.867557</td>\n",
              "      <td>0.000003</td>\n",
              "      <td>-0.000003</td>\n",
              "      <td>0</td>\n",
              "      <td>1.40800</td>\n",
              "      <td>0.184000</td>\n",
              "      <td>-0.184000</td>\n",
              "      <td>0</td>\n",
              "      <td>1500.000000</td>\n",
              "      <td>1.758400</td>\n",
              "      <td>-1.758400</td>\n",
              "      <td>0</td>\n",
              "      <td>23.752900</td>\n",
              "      <td>NaN</td>\n",
              "      <td>NaN</td>\n",
              "      <td>0</td>\n",
              "      <td>2860.610000</td>\n",
              "      <td>NaN</td>\n",
              "      <td>NaN</td>\n",
              "      <td>NaN</td>\n",
              "      <td>2037.000000</td>\n",
              "      <td>NaN</td>\n",
              "      <td>NaN</td>\n",
              "      <td>NaN</td>\n",
              "      <td>9.299501</td>\n",
              "      <td>0.058</td>\n",
              "      <td>-0.058</td>\n",
              "      <td>0</td>\n",
              "      <td>943.109</td>\n",
              "      <td>106.3330</td>\n",
              "      <td>-106.3330</td>\n",
              "      <td>0</td>\n",
              "      <td>8924.0</td>\n",
              "      <td>124.0</td>\n",
              "      <td>-124.0</td>\n",
              "      <td>0</td>\n",
              "      <td>NaN</td>\n",
              "      <td>NaN</td>\n",
              "      <td>NaN</td>\n",
              "      <td>0</td>\n",
              "      <td>5.73000</td>\n",
              "      <td>NaN</td>\n",
              "      <td>NaN</td>\n",
              "      <td>0</td>\n",
              "      <td>2019-07-24 15:58:33</td>\n",
              "      <td>2022-07-11 16:02:02</td>\n",
              "    </tr>\n",
              "    <tr>\n",
              "      <th>3</th>\n",
              "      <td>1003.01</td>\n",
              "      <td>106997505</td>\n",
              "      <td>FP</td>\n",
              "      <td>07h22m14.39s</td>\n",
              "      <td>110.559945</td>\n",
              "      <td>-25d12m25.26s</td>\n",
              "      <td>-25.207017</td>\n",
              "      <td>-0.939</td>\n",
              "      <td>0.041</td>\n",
              "      <td>-0.041</td>\n",
              "      <td>0.0</td>\n",
              "      <td>1.640</td>\n",
              "      <td>0.055</td>\n",
              "      <td>-0.055</td>\n",
              "      <td>0.0</td>\n",
              "      <td>2.458493e+06</td>\n",
              "      <td>0.005350</td>\n",
              "      <td>-0.005350</td>\n",
              "      <td>0</td>\n",
              "      <td>2.743230</td>\n",
              "      <td>0.001080</td>\n",
              "      <td>-0.001080</td>\n",
              "      <td>0</td>\n",
              "      <td>3.16700</td>\n",
              "      <td>0.642000</td>\n",
              "      <td>-0.642000</td>\n",
              "      <td>0</td>\n",
              "      <td>383.410000</td>\n",
              "      <td>0.781988</td>\n",
              "      <td>-0.781988</td>\n",
              "      <td>0</td>\n",
              "      <td>NaN</td>\n",
              "      <td>NaN</td>\n",
              "      <td>NaN</td>\n",
              "      <td>0</td>\n",
              "      <td>1177.360000</td>\n",
              "      <td>NaN</td>\n",
              "      <td>NaN</td>\n",
              "      <td>NaN</td>\n",
              "      <td>1631.000000</td>\n",
              "      <td>NaN</td>\n",
              "      <td>NaN</td>\n",
              "      <td>NaN</td>\n",
              "      <td>9.300300</td>\n",
              "      <td>0.037</td>\n",
              "      <td>-0.037</td>\n",
              "      <td>0</td>\n",
              "      <td>7728.170</td>\n",
              "      <td>1899.5700</td>\n",
              "      <td>-1899.5700</td>\n",
              "      <td>0</td>\n",
              "      <td>5388.5</td>\n",
              "      <td>567.0</td>\n",
              "      <td>-567.0</td>\n",
              "      <td>0</td>\n",
              "      <td>4.15</td>\n",
              "      <td>1.64</td>\n",
              "      <td>-1.64</td>\n",
              "      <td>0</td>\n",
              "      <td>NaN</td>\n",
              "      <td>NaN</td>\n",
              "      <td>NaN</td>\n",
              "      <td>0</td>\n",
              "      <td>2019-07-24 15:58:33</td>\n",
              "      <td>2022-02-23 10:10:02</td>\n",
              "    </tr>\n",
              "    <tr>\n",
              "      <th>4</th>\n",
              "      <td>1004.01</td>\n",
              "      <td>238597883</td>\n",
              "      <td>FP</td>\n",
              "      <td>08h08m42.77s</td>\n",
              "      <td>122.178195</td>\n",
              "      <td>-48d48m10.12s</td>\n",
              "      <td>-48.802811</td>\n",
              "      <td>-4.496</td>\n",
              "      <td>0.069</td>\n",
              "      <td>-0.069</td>\n",
              "      <td>0.0</td>\n",
              "      <td>9.347</td>\n",
              "      <td>0.062</td>\n",
              "      <td>-0.062</td>\n",
              "      <td>0.0</td>\n",
              "      <td>2.459987e+06</td>\n",
              "      <td>0.003748</td>\n",
              "      <td>-0.003748</td>\n",
              "      <td>0</td>\n",
              "      <td>3.573014</td>\n",
              "      <td>0.000013</td>\n",
              "      <td>-0.000013</td>\n",
              "      <td>0</td>\n",
              "      <td>3.37000</td>\n",
              "      <td>1.029000</td>\n",
              "      <td>-1.029000</td>\n",
              "      <td>0</td>\n",
              "      <td>755.000000</td>\n",
              "      <td>1306.550000</td>\n",
              "      <td>-1306.550000</td>\n",
              "      <td>0</td>\n",
              "      <td>11.311300</td>\n",
              "      <td>3.247140</td>\n",
              "      <td>-3.247140</td>\n",
              "      <td>0</td>\n",
              "      <td>54679.300000</td>\n",
              "      <td>NaN</td>\n",
              "      <td>NaN</td>\n",
              "      <td>NaN</td>\n",
              "      <td>4260.000000</td>\n",
              "      <td>NaN</td>\n",
              "      <td>NaN</td>\n",
              "      <td>NaN</td>\n",
              "      <td>9.135500</td>\n",
              "      <td>0.006</td>\n",
              "      <td>-0.006</td>\n",
              "      <td>0</td>\n",
              "      <td>356.437</td>\n",
              "      <td>4.6175</td>\n",
              "      <td>-4.6175</td>\n",
              "      <td>0</td>\n",
              "      <td>9219.0</td>\n",
              "      <td>171.1</td>\n",
              "      <td>-171.1</td>\n",
              "      <td>0</td>\n",
              "      <td>4.14</td>\n",
              "      <td>0.07</td>\n",
              "      <td>-0.07</td>\n",
              "      <td>0</td>\n",
              "      <td>2.15000</td>\n",
              "      <td>0.060000</td>\n",
              "      <td>-0.060000</td>\n",
              "      <td>0</td>\n",
              "      <td>2019-07-24 15:58:33</td>\n",
              "      <td>2024-09-09 10:08:01</td>\n",
              "    </tr>\n",
              "  </tbody>\n",
              "</table>\n",
              "</div>"
            ],
            "text/plain": [
              "       toi        tid tfopwg_disp         rastr          ra         decstr  \\\n",
              "0  1000.01   50365310          FP  07h29m25.85s  112.357708  -12d41m45.46s   \n",
              "1  1001.01   88863718          PC  08h10m19.31s  122.580465  -05d30m49.87s   \n",
              "2  1002.01  124709665          FP  06h58m54.47s  104.726966  -10d34m49.64s   \n",
              "3  1003.01  106997505          FP  07h22m14.39s  110.559945  -25d12m25.26s   \n",
              "4  1004.01  238597883          FP  08h08m42.77s  122.178195  -48d48m10.12s   \n",
              "\n",
              "         dec  st_pmra  st_pmraerr1  st_pmraerr2  st_pmralim  st_pmdec  \\\n",
              "0 -12.695960   -5.964        0.085       -0.085         0.0    -0.076   \n",
              "1  -5.513852   -4.956        0.102       -0.102         0.0   -15.555   \n",
              "2 -10.580455   -1.462        0.206       -0.206         0.0    -2.249   \n",
              "3 -25.207017   -0.939        0.041       -0.041         0.0     1.640   \n",
              "4 -48.802811   -4.496        0.069       -0.069         0.0     9.347   \n",
              "\n",
              "   st_pmdecerr1  st_pmdecerr2  st_pmdeclim    pl_tranmid  pl_tranmiderr1  \\\n",
              "0         0.072        -0.072          0.0  2.459230e+06        0.001657   \n",
              "1         0.072        -0.072          0.0  2.459988e+06        0.001916   \n",
              "2         0.206        -0.206          0.0  2.459225e+06        0.000625   \n",
              "3         0.055        -0.055          0.0  2.458493e+06        0.005350   \n",
              "4         0.062        -0.062          0.0  2.459987e+06        0.003748   \n",
              "\n",
              "   pl_tranmiderr2  pl_tranmidlim  pl_orbper  pl_orbpererr1  pl_orbpererr2  \\\n",
              "0       -0.001657              0   2.171348       0.000264      -0.000264   \n",
              "1       -0.001916              0   1.931646       0.000005      -0.000005   \n",
              "2       -0.000625              0   1.867557       0.000003      -0.000003   \n",
              "3       -0.005350              0   2.743230       0.001080      -0.001080   \n",
              "4       -0.003748              0   3.573014       0.000013      -0.000013   \n",
              "\n",
              "   pl_orbperlim  pl_trandurh  pl_trandurherr1  pl_trandurherr2  \\\n",
              "0             0      2.01722         0.319588        -0.319588   \n",
              "1             0      3.16600         0.647000        -0.647000   \n",
              "2             0      1.40800         0.184000        -0.184000   \n",
              "3             0      3.16700         0.642000        -0.642000   \n",
              "4             0      3.37000         1.029000        -1.029000   \n",
              "\n",
              "   pl_trandurhlim   pl_trandep  pl_trandeperr1  pl_trandeperr2  pl_trandeplim  \\\n",
              "0               0   656.886099       37.778210      -37.778210              0   \n",
              "1               0  1286.000000     1186.490000    -1186.490000              0   \n",
              "2               0  1500.000000        1.758400       -1.758400              0   \n",
              "3               0   383.410000        0.781988       -0.781988              0   \n",
              "4               0   755.000000     1306.550000    -1306.550000              0   \n",
              "\n",
              "     pl_rade  pl_radeerr1  pl_radeerr2  pl_radelim      pl_insol  \\\n",
              "0   5.818163     1.910546    -1.910546           0  22601.948581   \n",
              "1  11.215400     2.624200    -2.624200           0  44464.500000   \n",
              "2  23.752900          NaN          NaN           0   2860.610000   \n",
              "3        NaN          NaN          NaN           0   1177.360000   \n",
              "4  11.311300     3.247140    -3.247140           0  54679.300000   \n",
              "\n",
              "   pl_insolerr1  pl_insolerr2  pl_insollim       pl_eqt  pl_eqterr1  \\\n",
              "0           NaN           NaN          NaN  3127.204052         NaN   \n",
              "1           NaN           NaN          NaN  4045.000000         NaN   \n",
              "2           NaN           NaN          NaN  2037.000000         NaN   \n",
              "3           NaN           NaN          NaN  1631.000000         NaN   \n",
              "4           NaN           NaN          NaN  4260.000000         NaN   \n",
              "\n",
              "   pl_eqterr2  pl_eqtlim   st_tmag  st_tmagerr1  st_tmagerr2  st_tmaglim  \\\n",
              "0         NaN        NaN  9.604000        0.013       -0.013           0   \n",
              "1         NaN        NaN  9.423440        0.006       -0.006           0   \n",
              "2         NaN        NaN  9.299501        0.058       -0.058           0   \n",
              "3         NaN        NaN  9.300300        0.037       -0.037           0   \n",
              "4         NaN        NaN  9.135500        0.006       -0.006           0   \n",
              "\n",
              "    st_dist  st_disterr1  st_disterr2  st_distlim  st_teff  st_tefferr1  \\\n",
              "0   485.735      11.9515     -11.9515           0  10249.0        264.7   \n",
              "1   295.862       5.9100      -5.9100           0   7070.0        126.4   \n",
              "2   943.109     106.3330    -106.3330           0   8924.0        124.0   \n",
              "3  7728.170    1899.5700   -1899.5700           0   5388.5        567.0   \n",
              "4   356.437       4.6175      -4.6175           0   9219.0        171.1   \n",
              "\n",
              "   st_tefferr2  st_tefflim  st_logg  st_loggerr1  st_loggerr2  st_logglim  \\\n",
              "0       -264.7           0     4.19         0.07        -0.07           0   \n",
              "1       -126.4           0     4.03         0.09        -0.09           0   \n",
              "2       -124.0           0      NaN          NaN          NaN           0   \n",
              "3       -567.0           0     4.15         1.64        -1.64           0   \n",
              "4       -171.1           0     4.14         0.07        -0.07           0   \n",
              "\n",
              "    st_rad  st_raderr1  st_raderr2  st_radlim          toi_created  \\\n",
              "0  2.16986    0.072573   -0.072573          0  2019-07-24 15:58:33   \n",
              "1  2.01000    0.090000   -0.090000          0  2019-07-24 15:58:33   \n",
              "2  5.73000         NaN         NaN          0  2019-07-24 15:58:33   \n",
              "3      NaN         NaN         NaN          0  2019-07-24 15:58:33   \n",
              "4  2.15000    0.060000   -0.060000          0  2019-07-24 15:58:33   \n",
              "\n",
              "             rowupdate  \n",
              "0  2024-09-09 10:08:01  \n",
              "1  2023-04-03 14:31:04  \n",
              "2  2022-07-11 16:02:02  \n",
              "3  2022-02-23 10:10:02  \n",
              "4  2024-09-09 10:08:01  "
            ]
          },
          "execution_count": 1,
          "metadata": {},
          "output_type": "execute_result"
        }
      ],
      "source": [
        "import pandas as pd\n",
        "import numpy as np\n",
        "from sklearn.model_selection import train_test_split\n",
        "from sklearn.preprocessing import LabelEncoder\n",
        "\n",
        "url = \"https://raw.githubusercontent.com/mohammadsammour/Nasa-Challenge/main/Nasa_Dataset_1.csv\"\n",
        "main_data = pd.read_csv(url)\n",
        "pd.set_option('display.max_columns', None) # to show all columns\n",
        "pd.set_option('display.width', None) # each row will be shown in a line\n",
        "main_data.head()"
      ]
    },
    {
      "cell_type": "code",
      "execution_count": 2,
      "metadata": {
        "colab": {
          "base_uri": "https://localhost:8080/"
        },
        "id": "rfXTz5xFA5WQ",
        "outputId": "ce19cc7c-f8a0-459f-d6ab-f5c09ab35d6b"
      },
      "outputs": [
        {
          "name": "stdout",
          "output_type": "stream",
          "text": [
            "(7668, 65)\n",
            "64248\n",
            "<class 'pandas.core.frame.DataFrame'>\n",
            "RangeIndex: 7668 entries, 0 to 7667\n",
            "Data columns (total 65 columns):\n",
            " #   Column           Non-Null Count  Dtype  \n",
            "---  ------           --------------  -----  \n",
            " 0   toi              7668 non-null   float64\n",
            " 1   tid              7668 non-null   int64  \n",
            " 2   tfopwg_disp      7668 non-null   object \n",
            " 3   rastr            7668 non-null   object \n",
            " 4   ra               7668 non-null   float64\n",
            " 5   decstr           7668 non-null   object \n",
            " 6   dec              7668 non-null   float64\n",
            " 7   st_pmra          7534 non-null   float64\n",
            " 8   st_pmraerr1      7534 non-null   float64\n",
            " 9   st_pmraerr2      7534 non-null   float64\n",
            " 10  st_pmralim       7534 non-null   float64\n",
            " 11  st_pmdec         7534 non-null   float64\n",
            " 12  st_pmdecerr1     7534 non-null   float64\n",
            " 13  st_pmdecerr2     7534 non-null   float64\n",
            " 14  st_pmdeclim      7534 non-null   float64\n",
            " 15  pl_tranmid       7668 non-null   float64\n",
            " 16  pl_tranmiderr1   7657 non-null   float64\n",
            " 17  pl_tranmiderr2   7657 non-null   float64\n",
            " 18  pl_tranmidlim    7668 non-null   int64  \n",
            " 19  pl_orbper        7562 non-null   float64\n",
            " 20  pl_orbpererr1    7538 non-null   float64\n",
            " 21  pl_orbpererr2    7538 non-null   float64\n",
            " 22  pl_orbperlim     7668 non-null   int64  \n",
            " 23  pl_trandurh      7668 non-null   float64\n",
            " 24  pl_trandurherr1  7655 non-null   float64\n",
            " 25  pl_trandurherr2  7655 non-null   float64\n",
            " 26  pl_trandurhlim   7668 non-null   int64  \n",
            " 27  pl_trandep       7668 non-null   float64\n",
            " 28  pl_trandeperr1   7662 non-null   float64\n",
            " 29  pl_trandeperr2   7662 non-null   float64\n",
            " 30  pl_trandeplim    7668 non-null   int64  \n",
            " 31  pl_rade          7164 non-null   float64\n",
            " 32  pl_radeerr1      6047 non-null   float64\n",
            " 33  pl_radeerr2      6047 non-null   float64\n",
            " 34  pl_radelim       7668 non-null   int64  \n",
            " 35  pl_insol         7492 non-null   float64\n",
            " 36  pl_insolerr1     0 non-null      float64\n",
            " 37  pl_insolerr2     0 non-null      float64\n",
            " 38  pl_insollim      0 non-null      float64\n",
            " 39  pl_eqt           7357 non-null   float64\n",
            " 40  pl_eqterr1       0 non-null      float64\n",
            " 41  pl_eqterr2       0 non-null      float64\n",
            " 42  pl_eqtlim        0 non-null      float64\n",
            " 43  st_tmag          7668 non-null   float64\n",
            " 44  st_tmagerr1      7668 non-null   float64\n",
            " 45  st_tmagerr2      7668 non-null   float64\n",
            " 46  st_tmaglim       7668 non-null   int64  \n",
            " 47  st_dist          7453 non-null   float64\n",
            " 48  st_disterr1      6962 non-null   float64\n",
            " 49  st_disterr2      6962 non-null   float64\n",
            " 50  st_distlim       7668 non-null   int64  \n",
            " 51  st_teff          7507 non-null   float64\n",
            " 52  st_tefferr1      7195 non-null   float64\n",
            " 53  st_tefferr2      7195 non-null   float64\n",
            " 54  st_tefflim       7668 non-null   int64  \n",
            " 55  st_logg          6812 non-null   float64\n",
            " 56  st_loggerr1      5411 non-null   float64\n",
            " 57  st_loggerr2      5411 non-null   float64\n",
            " 58  st_logglim       7668 non-null   int64  \n",
            " 59  st_rad           7163 non-null   float64\n",
            " 60  st_raderr1       5718 non-null   float64\n",
            " 61  st_raderr2       5718 non-null   float64\n",
            " 62  st_radlim        7668 non-null   int64  \n",
            " 63  toi_created      7668 non-null   object \n",
            " 64  rowupdate        7668 non-null   object \n",
            "dtypes: float64(49), int64(11), object(5)\n",
            "memory usage: 3.8+ MB\n",
            "None\n"
          ]
        }
      ],
      "source": [
        "print(main_data.shape)\n",
        "print(main_data.isna().sum().sum())\n",
        "print(main_data.info())"
      ]
    },
    {
      "cell_type": "markdown",
      "metadata": {},
      "source": [
        "## Data Preprocessing"
      ]
    },
    {
      "cell_type": "code",
      "execution_count": 3,
      "metadata": {},
      "outputs": [],
      "source": [
        "main_data = main_data.drop(columns=['rastr','decstr','toi','tid','toi_created','rowupdate'])"
      ]
    },
    {
      "cell_type": "code",
      "execution_count": 4,
      "metadata": {
        "id": "oblKp7hEA5WQ"
      },
      "outputs": [],
      "source": [
        "def handling_missing(df):\n",
        "     df = df.dropna(axis=1, thresh=len(df)*0.4)\n",
        "     df = df.drop(columns=(df == 0).mean()[ (df == 0).mean() >= 0.9 ].index)\n",
        "     df = df.dropna()\n",
        "     return df"
      ]
    },
    {
      "cell_type": "code",
      "execution_count": 5,
      "metadata": {
        "id": "Zf3bxubGA5WQ"
      },
      "outputs": [],
      "source": [
        "def drop_sym_columns(df, threshold=0.95):\n",
        "    numerical_df = df.select_dtypes(['int','float'])\n",
        "    numerical_columns = numerical_df.columns\n",
        "    corr_matrix = numerical_df.corr()\n",
        "    drop_columns = set()\n",
        "    corr_matrix = abs(corr_matrix)\n",
        "    for i in range(len(corr_matrix.index)):\n",
        "        for j in range(i,len(corr_matrix.index)):\n",
        "            if corr_matrix.iloc[i,j] > threshold and corr_matrix.index[i] != corr_matrix.columns[j]:\n",
        "                drop_columns.add(numerical_columns[j])\n",
        "    print(list(drop_columns))\n",
        "    print(numerical_df.corr().to_string())\n",
        "    return df.drop(columns = list(drop_columns))"
      ]
    },
    {
      "cell_type": "code",
      "execution_count": 6,
      "metadata": {
        "id": "9j49O-BpA5WR"
      },
      "outputs": [],
      "source": [
        "def splitting_data(df,test_size):\n",
        "    X = df.drop(columns=[\"tfopwg_disp\"])\n",
        "    Y = df['tfopwg_disp']\n",
        "\n",
        "    x_train,x_test,y_train,y_test = train_test_split(X, Y, test_size = test_size, random_state = 42)\n",
        "    return x_train,x_test,y_train,y_test"
      ]
    },
    {
      "cell_type": "code",
      "execution_count": 7,
      "metadata": {
        "id": "3u0jNsDyAa7Z"
      },
      "outputs": [],
      "source": [
        "def encoding_cate_columns2(y_train, y_test):\n",
        "    LE = LabelEncoder()\n",
        "    y_train_enc = LE.fit_transform(y_train)\n",
        "    y_test_enc = LE.transform(y_test)\n",
        "    decoded_labels = LE.inverse_transform(y_train_enc)\n",
        "    print(\"Mapping:\", dict(zip(LE.classes_, LE.transform(LE.classes_))))\n",
        "    return y_train_enc, y_test_enc\n",
        "\n",
        "\n",
        "def encode_dataframe_categoricals(df):\n",
        "    df = df.copy()\n",
        "    cat_cols = df.select_dtypes(include='object').columns\n",
        "    for col in cat_cols:\n",
        "        df.loc[:, col] = df[col].astype('category').cat.codes\n",
        "    return df"
      ]
    },
    {
      "cell_type": "code",
      "execution_count": 8,
      "metadata": {
        "id": "iZ-q5xitA5WR"
      },
      "outputs": [],
      "source": [
        "def scaling_columns(x_train,x_test):\n",
        "    x_train_min = np.min(x_train,axis=0)\n",
        "    x_train_max = np.max(x_train,axis = 0)\n",
        "    x_train[:] = (x_train-x_train_min)/(x_train_max-x_train_min)\n",
        "    x_test[:] = (x_test-x_train_min)/(x_train_max-x_train_min)\n",
        "    return x_train, x_test"
      ]
    },
    {
      "cell_type": "code",
      "execution_count": 9,
      "metadata": {
        "id": "gWg01OPmA5WR"
      },
      "outputs": [],
      "source": [
        "def feature_selection(x_train,y_train,x_test):\n",
        "\n",
        "    from sklearn.feature_selection import RFECV\n",
        "    from sklearn.ensemble import RandomForestClassifier\n",
        "    est = RandomForestClassifier(n_estimators=200, random_state=42)\n",
        "    rfecv = RFECV(\n",
        "        estimator=est,\n",
        "        step=1,               # remove one feature at a time\n",
        "        cv=5,                 # cross-validation folds\n",
        "        scoring=\"f1_macro\",    # metric\n",
        "        n_jobs=-1\n",
        "    )\n",
        "    rfecv.fit(x_train, y_train)\n",
        "\n",
        "    selected_cols = x_train.columns[rfecv.support_]\n",
        "    print(\"Optimal number of features:\", len(selected_cols))\n",
        "    print(\"Selected features:\", selected_cols.tolist())\n",
        "\n",
        "    x_train = x_train[selected_cols]\n",
        "    x_test = x_test[selected_cols]\n",
        "    return x_train,x_test"
      ]
    },
    {
      "cell_type": "markdown",
      "metadata": {},
      "source": [
        "### Calling Preprocessing Functions"
      ]
    },
    {
      "cell_type": "code",
      "execution_count": 10,
      "metadata": {
        "colab": {
          "base_uri": "https://localhost:8080/"
        },
        "id": "3eQOPqW9A5WR",
        "outputId": "3640b512-c0b9-42ff-f295-390a95fda148"
      },
      "outputs": [
        {
          "name": "stdout",
          "output_type": "stream",
          "text": [
            "['st_loggerr2', 'st_raderr2', 'st_tefferr2', 'st_tmagerr2', 'pl_tranmiderr2', 'st_disterr2', 'pl_trandurherr2', 'pl_trandeperr2', 'st_pmraerr2', 'pl_orbpererr2', 'st_pmdecerr2', 'pl_radeerr2']\n",
            "                       ra       dec   st_pmra  st_pmraerr1  st_pmraerr2  st_pmdec  st_pmdecerr1  st_pmdecerr2  pl_tranmid  pl_tranmiderr1  pl_tranmiderr2  pl_orbper  pl_orbpererr1  pl_orbpererr2  pl_trandurh  pl_trandurherr1  pl_trandurherr2  pl_trandep  pl_trandeperr1  pl_trandeperr2   pl_rade  pl_radeerr1  pl_radeerr2  pl_insol    pl_eqt   st_tmag  st_tmagerr1  st_tmagerr2   st_dist  st_disterr1  st_disterr2   st_teff  st_tefferr1  st_tefferr2   st_logg  st_loggerr1  st_loggerr2    st_rad  st_raderr1  st_raderr2\n",
            "ra               1.000000  0.206753 -0.014470    -0.083651     0.083651  0.032255     -0.051618      0.051618    0.197575        0.017801       -0.017801  -0.014639      -0.014814       0.014814     0.010715         0.023134        -0.023134    0.023249        0.035841       -0.035841  0.046876     0.001554    -0.001554  0.010777  0.026347  0.031606     0.054363    -0.054363  0.039730    -0.021591     0.021591  0.027610     0.033593    -0.033593 -0.015410    -0.055993     0.055993  0.014282   -0.033408    0.033408\n",
            "dec              0.206753  1.000000  0.021558    -0.026915     0.026915  0.024711     -0.038206      0.038206    0.286409       -0.028061        0.028061  -0.029403      -0.027822       0.027822    -0.012978         0.042771        -0.042771   -0.009359        0.057142       -0.057142 -0.031501    -0.040559     0.040559 -0.015710 -0.026013  0.005509     0.141730    -0.141730 -0.036313    -0.036088     0.036088 -0.032278    -0.080477     0.080477  0.022821    -0.232023     0.232023 -0.020275   -0.032903    0.032903\n",
            "st_pmra         -0.014470  0.021558  1.000000    -0.006583     0.006583 -0.046153     -0.000703      0.000703   -0.000960        0.015976       -0.015976   0.014359      -0.000681       0.000681    -0.004748         0.012158        -0.012158   -0.021372        0.015307       -0.015307 -0.011297     0.012005    -0.012005 -0.006401 -0.011722  0.009539     0.002579    -0.002579 -0.015259    -0.007620     0.007620 -0.027391     0.015047    -0.015047  0.017757    -0.001424     0.001424 -0.019938   -0.006247    0.006247\n",
            "st_pmraerr1     -0.083651 -0.026915 -0.006583     1.000000    -1.000000 -0.043319      0.877536     -0.877536   -0.026398        0.001331       -0.001331   0.005114       0.030855      -0.030855    -0.065314        -0.019626         0.019626    0.067743        0.096230       -0.096230 -0.014937     0.048220    -0.048220  0.028139 -0.005819 -0.103160    -0.007256     0.007256 -0.130905     0.101183    -0.101183 -0.050559     0.000007    -0.000007  0.033102     0.048825    -0.048825 -0.005483    0.087735   -0.087735\n",
            "st_pmraerr2      0.083651  0.026915  0.006583    -1.000000     1.000000  0.043319     -0.877536      0.877536    0.026398       -0.001331        0.001331  -0.005114      -0.030855       0.030855     0.065314         0.019626        -0.019626   -0.067743       -0.096230        0.096230  0.014937    -0.048220     0.048220 -0.028139  0.005819  0.103160     0.007256    -0.007256  0.130905    -0.101183     0.101183  0.050559    -0.000007     0.000007 -0.033102    -0.048825     0.048825  0.005483   -0.087735    0.087735\n",
            "st_pmdec         0.032255  0.024711 -0.046153    -0.043319     0.043319  1.000000     -0.023050      0.023050    0.042992       -0.007054        0.007054  -0.022819      -0.029880       0.029880     0.062928         0.006923        -0.006923    0.007687       -0.017521        0.017521  0.086646     0.010373    -0.010373  0.024206  0.070894  0.046201     0.013063    -0.013063  0.113231     0.040428    -0.040428  0.137253     0.007687    -0.007687 -0.128292    -0.011329     0.011329  0.113705    0.069374   -0.069374\n",
            "st_pmdecerr1    -0.051618 -0.038206 -0.000703     0.877536    -0.877536 -0.023050      1.000000     -1.000000   -0.055694        0.002619       -0.002619   0.004615       0.033338      -0.033338    -0.062642        -0.018627         0.018627    0.053229        0.081815       -0.081815 -0.025374     0.049577    -0.049577  0.031011  0.003845 -0.108914    -0.008228     0.008228 -0.128343     0.113737    -0.113737 -0.047402     0.001510    -0.001510  0.025450     0.045413    -0.045413  0.001258    0.095395   -0.095395\n",
            "st_pmdecerr2     0.051618  0.038206  0.000703    -0.877536     0.877536  0.023050     -1.000000      1.000000    0.055694       -0.002619        0.002619  -0.004615      -0.033338       0.033338     0.062642         0.018627        -0.018627   -0.053229       -0.081815        0.081815  0.025374    -0.049577     0.049577 -0.031011 -0.003845  0.108914     0.008228    -0.008228  0.128343    -0.113737     0.113737  0.047402    -0.001510     0.001510 -0.025450    -0.045413     0.045413 -0.001258   -0.095395    0.095395\n",
            "pl_tranmid       0.197575  0.286409 -0.000960    -0.026398     0.026398  0.042992     -0.055694      0.055694    1.000000        0.013313       -0.013313  -0.126828      -0.164370       0.164370    -0.034742         0.081184        -0.081184    0.036049        0.132037       -0.132037  0.124642    -0.078182     0.078182 -0.015794  0.066081  0.048470     0.062737    -0.062737  0.135431     0.057102    -0.057102  0.111367    -0.020085     0.020085 -0.114705    -0.169990     0.169990  0.082683    0.007446   -0.007446\n",
            "pl_tranmiderr1   0.017801 -0.028061  0.015976     0.001331    -0.001331 -0.007054      0.002619     -0.002619    0.013313        1.000000       -1.000000   0.004933       0.143691      -0.143691     0.018340         0.154481        -0.154481   -0.033059        0.011340       -0.011340 -0.045223     0.001132    -0.001132 -0.006529 -0.024340 -0.018681    -0.003380     0.003380 -0.014545    -0.005522     0.005522 -0.002970    -0.004909     0.004909  0.001986    -0.009086     0.009086 -0.002983    0.002196   -0.002196\n",
            "pl_tranmiderr2  -0.017801  0.028061 -0.015976    -0.001331     0.001331  0.007054     -0.002619      0.002619   -0.013313       -1.000000        1.000000  -0.004933      -0.143691       0.143691    -0.018340        -0.154481         0.154481    0.033059       -0.011340        0.011340  0.045223    -0.001132     0.001132  0.006529  0.024340  0.018681     0.003380    -0.003380  0.014545     0.005522    -0.005522  0.002970     0.004909    -0.004909 -0.001986     0.009086    -0.009086  0.002983   -0.002196    0.002196\n",
            "pl_orbper       -0.014639 -0.029403  0.014359     0.005114    -0.005114 -0.022819      0.004615     -0.004615   -0.126828        0.004933       -0.004933   1.000000       0.328322      -0.328322     0.243817         0.079729        -0.079729   -0.024537        0.004314       -0.004314 -0.073011    -0.018209     0.018209 -0.038082 -0.211722 -0.117274    -0.031365     0.031365 -0.109877    -0.047779     0.047779 -0.036617    -0.014101     0.014101  0.052083    -0.016498     0.016498 -0.053745   -0.036765    0.036765\n",
            "pl_orbpererr1   -0.014814 -0.027822 -0.000681     0.030855    -0.030855 -0.029880      0.033338     -0.033338   -0.164370        0.143691       -0.143691   0.328322       1.000000      -1.000000     0.327187         0.206027        -0.206027   -0.035190       -0.006865        0.006865 -0.086041     0.036469    -0.036469 -0.033272 -0.169396 -0.097795    -0.031922     0.031922 -0.085992    -0.037974     0.037974 -0.013355    -0.005580     0.005580 -0.002373    -0.005972     0.005972 -0.002112    0.019778   -0.019778\n",
            "pl_orbpererr2    0.014814  0.027822  0.000681    -0.030855     0.030855  0.029880     -0.033338      0.033338    0.164370       -0.143691        0.143691  -0.328322      -1.000000       1.000000    -0.327187        -0.206027         0.206027    0.035190        0.006865       -0.006865  0.086041    -0.036469     0.036469  0.033272  0.169396  0.097795     0.031922    -0.031922  0.085992     0.037974    -0.037974  0.013355     0.005580    -0.005580  0.002373     0.005972    -0.005972  0.002112   -0.019778    0.019778\n",
            "pl_trandurh      0.010715 -0.012978 -0.004748    -0.065314     0.065314  0.062928     -0.062642      0.062642   -0.034742        0.018340       -0.018340   0.243817       0.327187      -0.327187     1.000000         0.292620        -0.292620   -0.059127       -0.113627        0.113627  0.111214    -0.087080     0.087080 -0.050833 -0.058663 -0.152847     0.013625    -0.013625  0.126161     0.034121    -0.034121  0.208214    -0.021870     0.021870 -0.278197     0.028818    -0.028818  0.255798    0.132541   -0.132541\n",
            "pl_trandurherr1  0.023134  0.042771  0.012158    -0.019626     0.019626  0.006923     -0.018627      0.018627    0.081184        0.154481       -0.154481   0.079729       0.206027      -0.206027     0.292620         1.000000        -1.000000   -0.262852        0.051755       -0.051755 -0.278897    -0.018426     0.018426 -0.019208 -0.032763 -0.127929     0.042917    -0.042917  0.004839     0.023681    -0.023681  0.055041    -0.044760     0.044760 -0.086932    -0.081599     0.081599  0.089291    0.058753   -0.058753\n",
            "pl_trandurherr2 -0.023134 -0.042771 -0.012158     0.019626    -0.019626 -0.006923      0.018627     -0.018627   -0.081184       -0.154481        0.154481  -0.079729      -0.206027       0.206027    -0.292620        -1.000000         1.000000    0.262852       -0.051755        0.051755  0.278897     0.018426    -0.018426  0.019208  0.032763  0.127929    -0.042917     0.042917 -0.004839    -0.023681     0.023681 -0.055041     0.044760    -0.044760  0.086932     0.081599    -0.081599 -0.089291   -0.058753    0.058753\n",
            "pl_trandep       0.023249 -0.009359 -0.021372     0.067743    -0.067743  0.007687      0.053229     -0.053229    0.036049       -0.033059        0.033059  -0.024537      -0.035190       0.035190    -0.059127        -0.262852         0.262852    1.000000        0.252750       -0.252750  0.383032     0.179205    -0.179205 -0.070212 -0.148847  0.430453     0.019455    -0.019455  0.011485    -0.017891     0.017891 -0.218915     0.000108    -0.000108  0.224378    -0.007837     0.007837 -0.211643   -0.131120    0.131120\n",
            "pl_trandeperr1   0.035841  0.057142  0.015307     0.096230    -0.096230 -0.017521      0.081815     -0.081815    0.132037        0.011340       -0.011340   0.004314      -0.006865       0.006865    -0.113627         0.051755        -0.051755    0.252750        1.000000       -1.000000  0.195388     0.243621    -0.243621 -0.000400 -0.039711  0.191638     0.006067    -0.006067 -0.035824    -0.007346     0.007346 -0.140000     0.010329    -0.010329  0.120070    -0.040359     0.040359 -0.106671   -0.071029    0.071029\n",
            "pl_trandeperr2  -0.035841 -0.057142 -0.015307    -0.096230     0.096230  0.017521     -0.081815      0.081815   -0.132037       -0.011340        0.011340  -0.004314       0.006865      -0.006865     0.113627        -0.051755         0.051755   -0.252750       -1.000000        1.000000 -0.195388    -0.243621     0.243621  0.000400  0.039711 -0.191638    -0.006067     0.006067  0.035824     0.007346    -0.007346  0.140000    -0.010329     0.010329 -0.120070     0.040359    -0.040359  0.106671    0.071029   -0.071029\n",
            "pl_rade          0.046876 -0.031501 -0.011297    -0.014937     0.014937  0.086646     -0.025374      0.025374    0.124642       -0.045223        0.045223  -0.073011      -0.086041       0.086041     0.111214        -0.278897         0.278897    0.383032        0.195388       -0.195388  1.000000     0.344856    -0.344856  0.089472  0.310554  0.281366     0.123001    -0.123001  0.561460     0.283647    -0.283647  0.362448     0.037953    -0.037953 -0.459229     0.081828    -0.081828  0.477339    0.295204   -0.295204\n",
            "pl_radeerr1      0.001554 -0.040559  0.012005     0.048220    -0.048220  0.010373      0.049577     -0.049577   -0.078182        0.001132       -0.001132  -0.018209       0.036469      -0.036469    -0.087080        -0.018426         0.018426    0.179205        0.243621       -0.243621  0.344856     1.000000    -1.000000  0.114857  0.152017  0.047224     0.032836    -0.032836  0.100594     0.104821    -0.104821  0.068404     0.043189    -0.043189 -0.098773     0.066468    -0.066468  0.137925    0.162919   -0.162919\n",
            "pl_radeerr2     -0.001554  0.040559 -0.012005    -0.048220     0.048220 -0.010373     -0.049577      0.049577    0.078182       -0.001132        0.001132   0.018209      -0.036469       0.036469     0.087080         0.018426        -0.018426   -0.179205       -0.243621        0.243621 -0.344856    -1.000000     1.000000 -0.114857 -0.152017 -0.047224    -0.032836     0.032836 -0.100594    -0.104821     0.104821 -0.068404    -0.043189     0.043189  0.098773    -0.066468     0.066468 -0.137925   -0.162919    0.162919\n",
            "pl_insol         0.010777 -0.015710 -0.006401     0.028139    -0.028139  0.024206      0.031011     -0.031011   -0.015794       -0.006529        0.006529  -0.038082      -0.033272       0.033272    -0.050833        -0.019208         0.019208   -0.070212       -0.000400        0.000400  0.089472     0.114857    -0.114857  1.000000  0.630294 -0.132398     0.037738    -0.037738  0.098403     0.080709    -0.080709  0.318423     0.031322    -0.031322 -0.164627     0.015665    -0.015665  0.258953    0.122076   -0.122076\n",
            "pl_eqt           0.026347 -0.026013 -0.011722    -0.005819     0.005819  0.070894      0.003845     -0.003845    0.066081       -0.024340        0.024340  -0.211722      -0.169396       0.169396    -0.058663        -0.032763         0.032763   -0.148847       -0.039711        0.039711  0.310554     0.152017    -0.152017  0.630294  1.000000 -0.125230     0.125365    -0.125365  0.403416     0.223390    -0.223390  0.586649     0.061350    -0.061350 -0.489186     0.058656    -0.058656  0.568795    0.298233   -0.298233\n",
            "st_tmag          0.031606  0.005509  0.009539    -0.103160     0.103160  0.046201     -0.108914      0.108914    0.048470       -0.018681        0.018681  -0.117274      -0.097795       0.097795    -0.152847        -0.127929         0.127929    0.430453        0.191638       -0.191638  0.281366     0.047224    -0.047224 -0.132398 -0.125230  1.000000     0.121749    -0.121749  0.459585     0.164394    -0.164394 -0.240280     0.030491    -0.030491  0.157275    -0.061605     0.061605 -0.191096   -0.091471    0.091471\n",
            "st_tmagerr1      0.054363  0.141730  0.002579    -0.007256     0.007256  0.013063     -0.008228      0.008228    0.062737       -0.003380        0.003380  -0.031365      -0.031922       0.031922     0.013625         0.042917        -0.042917    0.019455        0.006067       -0.006067  0.123001     0.032836    -0.032836  0.037738  0.125365  0.121749     1.000000    -1.000000  0.247930     0.313424    -0.313424  0.164606     0.046766    -0.046766 -0.132525    -0.013912     0.013912  0.168841    0.212194   -0.212194\n",
            "st_tmagerr2     -0.054363 -0.141730 -0.002579     0.007256    -0.007256 -0.013063      0.008228     -0.008228   -0.062737        0.003380       -0.003380   0.031365       0.031922      -0.031922    -0.013625        -0.042917         0.042917   -0.019455       -0.006067        0.006067 -0.123001    -0.032836     0.032836 -0.037738 -0.125365 -0.121749    -1.000000     1.000000 -0.247930    -0.313424     0.313424 -0.164606    -0.046766     0.046766  0.132525     0.013912    -0.013912 -0.168841   -0.212194    0.212194\n",
            "st_dist          0.039730 -0.036313 -0.015259    -0.130905     0.130905  0.113231     -0.128343      0.128343    0.135431       -0.014545        0.014545  -0.109877      -0.085992       0.085992     0.126161         0.004839        -0.004839    0.011485       -0.035824        0.035824  0.561460     0.100594    -0.100594  0.098403  0.403416  0.459585     0.247930    -0.247930  1.000000     0.600861    -0.600861  0.535323     0.039516    -0.039516 -0.591455     0.004264    -0.004264  0.622207    0.437369   -0.437369\n",
            "st_disterr1     -0.021591 -0.036088 -0.007620     0.101183    -0.101183  0.040428      0.113737     -0.113737    0.057102       -0.005522        0.005522  -0.047779      -0.037974       0.037974     0.034121         0.023681        -0.023681   -0.017891       -0.007346        0.007346  0.283647     0.104821    -0.104821  0.080709  0.223390  0.164394     0.313424    -0.313424  0.600861     1.000000    -1.000000  0.321581     0.016534    -0.016534 -0.305963     0.049895    -0.049895  0.380505    0.614693   -0.614693\n",
            "st_disterr2      0.021591  0.036088  0.007620    -0.101183     0.101183 -0.040428     -0.113737      0.113737   -0.057102        0.005522       -0.005522   0.047779       0.037974      -0.037974    -0.034121        -0.023681         0.023681    0.017891        0.007346       -0.007346 -0.283647    -0.104821     0.104821 -0.080709 -0.223390 -0.164394    -0.313424     0.313424 -0.600861    -1.000000     1.000000 -0.321581    -0.016534     0.016534  0.305963    -0.049895     0.049895 -0.380505   -0.614693    0.614693\n",
            "st_teff          0.027610 -0.032278 -0.027391    -0.050559     0.050559  0.137253     -0.047402      0.047402    0.111367       -0.002970        0.002970  -0.036617      -0.013355       0.013355     0.208214         0.055041        -0.055041   -0.218915       -0.140000        0.140000  0.362448     0.068404    -0.068404  0.318423  0.586649 -0.240280     0.164606    -0.164606  0.535323     0.321581    -0.321581  1.000000     0.096430    -0.096430 -0.565900     0.032320    -0.032320  0.672561    0.357727   -0.357727\n",
            "st_tefferr1      0.033593 -0.080477  0.015047     0.000007    -0.000007  0.007687      0.001510     -0.001510   -0.020085       -0.004909        0.004909  -0.014101      -0.005580       0.005580    -0.021870        -0.044760         0.044760    0.000108        0.010329       -0.010329  0.037953     0.043189    -0.043189  0.031322  0.061350  0.030491     0.046766    -0.046766  0.039516     0.016534    -0.016534  0.096430     1.000000    -1.000000  0.010680     0.390619    -0.390619  0.019736    0.025815   -0.025815\n",
            "st_tefferr2     -0.033593  0.080477 -0.015047    -0.000007     0.000007 -0.007687     -0.001510      0.001510    0.020085        0.004909       -0.004909   0.014101       0.005580      -0.005580     0.021870         0.044760        -0.044760   -0.000108       -0.010329        0.010329 -0.037953    -0.043189     0.043189 -0.031322 -0.061350 -0.030491    -0.046766     0.046766 -0.039516    -0.016534     0.016534 -0.096430    -1.000000     1.000000 -0.010680    -0.390619     0.390619 -0.019736   -0.025815    0.025815\n",
            "st_logg         -0.015410  0.022821  0.017757     0.033102    -0.033102 -0.128292      0.025450     -0.025450   -0.114705        0.001986       -0.001986   0.052083      -0.002373       0.002373    -0.278197        -0.086932         0.086932    0.224378        0.120070       -0.120070 -0.459229    -0.098773     0.098773 -0.164627 -0.489186  0.157275    -0.132525     0.132525 -0.591455    -0.305963     0.305963 -0.565900     0.010680    -0.010680  1.000000     0.005572    -0.005572 -0.905082   -0.571211    0.571211\n",
            "st_loggerr1     -0.055993 -0.232023 -0.001424     0.048825    -0.048825 -0.011329      0.045413     -0.045413   -0.169990       -0.009086        0.009086  -0.016498      -0.005972       0.005972     0.028818        -0.081599         0.081599   -0.007837       -0.040359        0.040359  0.081828     0.066468    -0.066468  0.015665  0.058656 -0.061605    -0.013912     0.013912  0.004264     0.049895    -0.049895  0.032320     0.390619    -0.390619  0.005572     1.000000    -1.000000  0.078944    0.140301   -0.140301\n",
            "st_loggerr2      0.055993  0.232023  0.001424    -0.048825     0.048825  0.011329     -0.045413      0.045413    0.169990        0.009086       -0.009086   0.016498       0.005972      -0.005972    -0.028818         0.081599        -0.081599    0.007837        0.040359       -0.040359 -0.081828    -0.066468     0.066468 -0.015665 -0.058656  0.061605     0.013912    -0.013912 -0.004264    -0.049895     0.049895 -0.032320    -0.390619     0.390619 -0.005572    -1.000000     1.000000 -0.078944   -0.140301    0.140301\n",
            "st_rad           0.014282 -0.020275 -0.019938    -0.005483     0.005483  0.113705      0.001258     -0.001258    0.082683       -0.002983        0.002983  -0.053745      -0.002112       0.002112     0.255798         0.089291        -0.089291   -0.211643       -0.106671        0.106671  0.477339     0.137925    -0.137925  0.258953  0.568795 -0.191096     0.168841    -0.168841  0.622207     0.380505    -0.380505  0.672561     0.019736    -0.019736 -0.905082     0.078944    -0.078944  1.000000    0.641025   -0.641025\n",
            "st_raderr1      -0.033408 -0.032903 -0.006247     0.087735    -0.087735  0.069374      0.095395     -0.095395    0.007446        0.002196       -0.002196  -0.036765       0.019778      -0.019778     0.132541         0.058753        -0.058753   -0.131120       -0.071029        0.071029  0.295204     0.162919    -0.162919  0.122076  0.298233 -0.091471     0.212194    -0.212194  0.437369     0.614693    -0.614693  0.357727     0.025815    -0.025815 -0.571211     0.140301    -0.140301  0.641025    1.000000   -1.000000\n",
            "st_raderr2       0.033408  0.032903  0.006247    -0.087735     0.087735 -0.069374     -0.095395      0.095395   -0.007446       -0.002196        0.002196   0.036765      -0.019778       0.019778    -0.132541        -0.058753         0.058753    0.131120        0.071029       -0.071029 -0.295204    -0.162919     0.162919 -0.122076 -0.298233  0.091471    -0.212194     0.212194 -0.437369    -0.614693     0.614693 -0.357727    -0.025815     0.025815  0.571211    -0.140301     0.140301 -0.641025   -1.000000    1.000000\n",
            "Mapping: {'APC': np.int64(0), 'CP': np.int64(1), 'FA': np.int64(2), 'FP': np.int64(3), 'KP': np.int64(4), 'PC': np.int64(5)}\n",
            "Optimal number of features: 18\n",
            "Selected features: ['dec', 'st_pmdec', 'pl_tranmid', 'pl_tranmiderr1', 'pl_orbper', 'pl_orbpererr1', 'pl_trandurh', 'pl_trandurherr1', 'pl_trandep', 'pl_trandeperr1', 'pl_rade', 'pl_radeerr1', 'pl_insol', 'pl_eqt', 'st_tmag', 'st_dist', 'st_disterr1', 'st_tefferr1']\n"
          ]
        }
      ],
      "source": [
        "main_data = handling_missing(main_data)\n",
        "main_data = drop_sym_columns(main_data, 0.95)\n",
        "x_train,x_test,y_train,y_test = splitting_data(main_data,0.2)\n",
        "y_train,y_test = encoding_cate_columns2(y_train,y_test)\n",
        "x_train,x_test = feature_selection(x_train,y_train,x_test)"
      ]
    },
    {
      "cell_type": "markdown",
      "metadata": {},
      "source": [
        "### Quick check on changes"
      ]
    },
    {
      "cell_type": "code",
      "execution_count": 11,
      "metadata": {
        "colab": {
          "base_uri": "https://localhost:8080/"
        },
        "id": "KEC0xZbxA5WS",
        "outputId": "f4f2b370-cd0e-42f8-ed35-0bed512f7e5a"
      },
      "outputs": [
        {
          "name": "stdout",
          "output_type": "stream",
          "text": [
            "(5124, 29)\n",
            "0\n",
            "(4099, 18)\n"
          ]
        }
      ],
      "source": [
        "print(main_data.shape)\n",
        "print(main_data.isna().sum().sum())\n",
        "print(x_train.shape)"
      ]
    },
    {
      "cell_type": "code",
      "execution_count": null,
      "metadata": {},
      "outputs": [
        {
          "name": "stdout",
          "output_type": "stream",
          "text": [
            "Best Features: \n",
            " 18 Features: ['dec', 'st_pmdec', 'pl_tranmid', 'pl_tranmiderr1', 'pl_orbper', 'pl_orbpererr1', 'pl_trandurh', 'pl_trandurherr1', 'pl_trandep', 'pl_trandeperr1', 'pl_rade', 'pl_radeerr1', 'pl_insol', 'pl_eqt', 'st_tmag', 'st_dist', 'st_disterr1', 'st_tefferr1']\n",
            "\n"
          ]
        }
      ],
      "source": [
        "print(f\"Best Features: \\n{len(x_train.columns)} Features: {list(x_train.columns)}\\n\")"
      ]
    },
    {
      "cell_type": "markdown",
      "metadata": {},
      "source": [
        "## Training and Evaluation"
      ]
    },
    {
      "cell_type": "code",
      "execution_count": 13,
      "metadata": {
        "colab": {
          "base_uri": "https://localhost:8080/"
        },
        "id": "VlZNc4RHA5WS",
        "outputId": "eda91b11-d5d9-4273-98c8-cb5114d90aa8"
      },
      "outputs": [
        {
          "name": "stdout",
          "output_type": "stream",
          "text": [
            "Logistic Regression\n",
            "Accuracy: 0.5990243902439024\n",
            "              precision    recall  f1-score   support\n",
            "\n",
            "           0       0.00      0.00      0.00        53\n",
            "           1       0.00      0.00      0.00       123\n",
            "           2       0.00      0.00      0.00        15\n",
            "           3       0.79      0.09      0.16       165\n",
            "           4       0.00      0.00      0.00        67\n",
            "           5       0.60      1.00      0.75       602\n",
            "\n",
            "    accuracy                           0.60      1025\n",
            "   macro avg       0.23      0.18      0.15      1025\n",
            "weighted avg       0.48      0.60      0.46      1025\n",
            "\n"
          ]
        },
        {
          "name": "stderr",
          "output_type": "stream",
          "text": [
            "C:\\Users\\m1-ra\\AppData\\Roaming\\Python\\Python313\\site-packages\\sklearn\\linear_model\\_logistic.py:465: ConvergenceWarning: lbfgs failed to converge (status=1):\n",
            "STOP: TOTAL NO. OF ITERATIONS REACHED LIMIT.\n",
            "\n",
            "Increase the number of iterations (max_iter) or scale the data as shown in:\n",
            "    https://scikit-learn.org/stable/modules/preprocessing.html\n",
            "Please also refer to the documentation for alternative solver options:\n",
            "    https://scikit-learn.org/stable/modules/linear_model.html#logistic-regression\n",
            "  n_iter_i = _check_optimize_result(\n",
            "C:\\Users\\m1-ra\\AppData\\Roaming\\Python\\Python313\\site-packages\\sklearn\\metrics\\_classification.py:1565: UndefinedMetricWarning: Precision is ill-defined and being set to 0.0 in labels with no predicted samples. Use `zero_division` parameter to control this behavior.\n",
            "  _warn_prf(average, modifier, f\"{metric.capitalize()} is\", len(result))\n",
            "C:\\Users\\m1-ra\\AppData\\Roaming\\Python\\Python313\\site-packages\\sklearn\\metrics\\_classification.py:1565: UndefinedMetricWarning: Precision is ill-defined and being set to 0.0 in labels with no predicted samples. Use `zero_division` parameter to control this behavior.\n",
            "  _warn_prf(average, modifier, f\"{metric.capitalize()} is\", len(result))\n",
            "C:\\Users\\m1-ra\\AppData\\Roaming\\Python\\Python313\\site-packages\\sklearn\\metrics\\_classification.py:1565: UndefinedMetricWarning: Precision is ill-defined and being set to 0.0 in labels with no predicted samples. Use `zero_division` parameter to control this behavior.\n",
            "  _warn_prf(average, modifier, f\"{metric.capitalize()} is\", len(result))\n"
          ]
        }
      ],
      "source": [
        "from sklearn.linear_model import LogisticRegression\n",
        "from sklearn.metrics import accuracy_score, classification_report\n",
        "\n",
        "lr = LogisticRegression(max_iter=500)\n",
        "lr.fit(x_train, y_train)\n",
        "y_pred = lr.predict(x_test)\n",
        "\n",
        "print(\"Logistic Regression\")\n",
        "print(\"Accuracy:\", accuracy_score(y_test, y_pred))\n",
        "print(classification_report(y_test, y_pred))"
      ]
    },
    {
      "cell_type": "code",
      "execution_count": 14,
      "metadata": {
        "colab": {
          "base_uri": "https://localhost:8080/",
          "height": 507
        },
        "id": "r5lf72QAgFHX",
        "outputId": "a17cff7e-be95-45c7-9fa0-7885b98f2e7b"
      },
      "outputs": [
        {
          "name": "stdout",
          "output_type": "stream",
          "text": [
            "Best k: 43\n"
          ]
        },
        {
          "data": {
            "image/png": "[encoded data removed]",
            "text/plain": [
              "<Figure size 640x480 with 1 Axes>"
            ]
          },
          "metadata": {},
          "output_type": "display_data"
        },
        {
          "name": "stdout",
          "output_type": "stream",
          "text": [
            "Best k: 43 with Accuracy: 0.6042901813633521\n"
          ]
        }
      ],
      "source": [
        "from sklearn.neighbors import KNeighborsClassifier\n",
        "from sklearn.model_selection import cross_val_score\n",
        "import numpy as np\n",
        "import matplotlib.pyplot as plt\n",
        "\n",
        "neighbors = range(1, 50)\n",
        "scores = []\n",
        "\n",
        "for k in neighbors:\n",
        "    knn = KNeighborsClassifier(n_neighbors=k)\n",
        "    cv_score = cross_val_score(knn, x_train, y_train, cv=5, scoring=\"accuracy\")\n",
        "    scores.append(cv_score.mean())\n",
        "\n",
        "best_k = neighbors[np.argmax(scores)]\n",
        "print(\"Best k:\", best_k)\n",
        "\n",
        "plt.plot(neighbors, scores, marker='o')\n",
        "plt.xlabel(\"n_neighbors (k)\")\n",
        "plt.ylabel(\"Cross-validated Accuracy\")\n",
        "plt.title(\"Choosing best k for KNN\")\n",
        "plt.show()\n",
        "print(\"Best k:\", best_k, \"with Accuracy:\", max(scores))\n"
      ]
    },
    {
      "cell_type": "code",
      "execution_count": 15,
      "metadata": {
        "colab": {
          "base_uri": "https://localhost:8080/"
        },
        "id": "LHev5-KOgdhy",
        "outputId": "25796647-2436-4b73-8e08-29397ee26567"
      },
      "outputs": [
        {
          "name": "stdout",
          "output_type": "stream",
          "text": [
            "KNN with k=43\n",
            "Accuracy: 0.6126829268292683\n",
            "              precision    recall  f1-score   support\n",
            "\n",
            "           0       0.00      0.00      0.00        53\n",
            "           1       0.33      0.01      0.02       123\n",
            "           2       0.00      0.00      0.00        15\n",
            "           3       0.57      0.27      0.37       165\n",
            "           4       0.00      0.00      0.00        67\n",
            "           5       0.62      0.97      0.75       602\n",
            "\n",
            "    accuracy                           0.61      1025\n",
            "   macro avg       0.25      0.21      0.19      1025\n",
            "weighted avg       0.49      0.61      0.50      1025\n",
            "\n"
          ]
        },
        {
          "name": "stderr",
          "output_type": "stream",
          "text": [
            "C:\\Users\\m1-ra\\AppData\\Roaming\\Python\\Python313\\site-packages\\sklearn\\metrics\\_classification.py:1565: UndefinedMetricWarning: Precision is ill-defined and being set to 0.0 in labels with no predicted samples. Use `zero_division` parameter to control this behavior.\n",
            "  _warn_prf(average, modifier, f\"{metric.capitalize()} is\", len(result))\n",
            "C:\\Users\\m1-ra\\AppData\\Roaming\\Python\\Python313\\site-packages\\sklearn\\metrics\\_classification.py:1565: UndefinedMetricWarning: Precision is ill-defined and being set to 0.0 in labels with no predicted samples. Use `zero_division` parameter to control this behavior.\n",
            "  _warn_prf(average, modifier, f\"{metric.capitalize()} is\", len(result))\n",
            "C:\\Users\\m1-ra\\AppData\\Roaming\\Python\\Python313\\site-packages\\sklearn\\metrics\\_classification.py:1565: UndefinedMetricWarning: Precision is ill-defined and being set to 0.0 in labels with no predicted samples. Use `zero_division` parameter to control this behavior.\n",
            "  _warn_prf(average, modifier, f\"{metric.capitalize()} is\", len(result))\n"
          ]
        }
      ],
      "source": [
        "from sklearn.metrics import accuracy_score, classification_report\n",
        "from sklearn.neighbors import KNeighborsClassifier\n",
        "\n",
        "knn = KNeighborsClassifier(n_neighbors=43)\n",
        "knn.fit(x_train, y_train)\n",
        "y_pred = knn.predict(x_test)\n",
        "\n",
        "print(\"KNN with k=43\")\n",
        "print(\"Accuracy:\", accuracy_score(y_test, y_pred))\n",
        "print(classification_report(y_test, y_pred))"
      ]
    },
    {
      "cell_type": "code",
      "execution_count": 16,
      "metadata": {
        "colab": {
          "base_uri": "https://localhost:8080/"
        },
        "id": "tCe_hdy_jmaz",
        "outputId": "0322b642-404e-4e42-cbd2-8fa87c48bf30"
      },
      "outputs": [
        {
          "name": "stdout",
          "output_type": "stream",
          "text": [
            "Decision Tree (ID3)\n",
            "Accuracy: 0.5346341463414634\n",
            "              precision    recall  f1-score   support\n",
            "\n",
            "           0       0.16      0.19      0.17        53\n",
            "           1       0.33      0.29      0.31       123\n",
            "           2       0.00      0.00      0.00        15\n",
            "           3       0.44      0.42      0.43       165\n",
            "           4       0.26      0.33      0.29        67\n",
            "           5       0.68      0.68      0.68       602\n",
            "\n",
            "    accuracy                           0.53      1025\n",
            "   macro avg       0.31      0.32      0.31      1025\n",
            "weighted avg       0.54      0.53      0.53      1025\n",
            "\n"
          ]
        }
      ],
      "source": [
        "from sklearn.tree import DecisionTreeClassifier\n",
        "from sklearn.metrics import accuracy_score, classification_report\n",
        "\n",
        "dt = DecisionTreeClassifier(criterion=\"entropy\", random_state=42)\n",
        "dt.fit(x_train, y_train)\n",
        "y_pred = dt.predict(x_test)\n",
        "\n",
        "print(\"Decision Tree (ID3)\")\n",
        "print(\"Accuracy:\", accuracy_score(y_test, y_pred))\n",
        "print(classification_report(y_test, y_pred))"
      ]
    },
    {
      "cell_type": "code",
      "execution_count": 17,
      "metadata": {
        "colab": {
          "base_uri": "https://localhost:8080/"
        },
        "id": "sQEoujJYjtGY",
        "outputId": "2289b7d9-5e44-4ed2-e441-7c919b00dd01"
      },
      "outputs": [
        {
          "name": "stdout",
          "output_type": "stream",
          "text": [
            "SVM\n",
            "Accuracy: 0.5873170731707317\n",
            "              precision    recall  f1-score   support\n",
            "\n",
            "           0       0.00      0.00      0.00        53\n",
            "           1       0.00      0.00      0.00       123\n",
            "           2       0.00      0.00      0.00        15\n",
            "           3       0.00      0.00      0.00       165\n",
            "           4       0.00      0.00      0.00        67\n",
            "           5       0.59      1.00      0.74       602\n",
            "\n",
            "    accuracy                           0.59      1025\n",
            "   macro avg       0.10      0.17      0.12      1025\n",
            "weighted avg       0.34      0.59      0.43      1025\n",
            "\n"
          ]
        },
        {
          "name": "stderr",
          "output_type": "stream",
          "text": [
            "C:\\Users\\m1-ra\\AppData\\Roaming\\Python\\Python313\\site-packages\\sklearn\\metrics\\_classification.py:1565: UndefinedMetricWarning: Precision is ill-defined and being set to 0.0 in labels with no predicted samples. Use `zero_division` parameter to control this behavior.\n",
            "  _warn_prf(average, modifier, f\"{metric.capitalize()} is\", len(result))\n",
            "C:\\Users\\m1-ra\\AppData\\Roaming\\Python\\Python313\\site-packages\\sklearn\\metrics\\_classification.py:1565: UndefinedMetricWarning: Precision is ill-defined and being set to 0.0 in labels with no predicted samples. Use `zero_division` parameter to control this behavior.\n",
            "  _warn_prf(average, modifier, f\"{metric.capitalize()} is\", len(result))\n",
            "C:\\Users\\m1-ra\\AppData\\Roaming\\Python\\Python313\\site-packages\\sklearn\\metrics\\_classification.py:1565: UndefinedMetricWarning: Precision is ill-defined and being set to 0.0 in labels with no predicted samples. Use `zero_division` parameter to control this behavior.\n",
            "  _warn_prf(average, modifier, f\"{metric.capitalize()} is\", len(result))\n"
          ]
        }
      ],
      "source": [
        "from sklearn.svm import SVC\n",
        "from sklearn.metrics import accuracy_score, classification_report\n",
        "\n",
        "svm = SVC()\n",
        "svm.fit(x_train, y_train)\n",
        "y_pred = svm.predict(x_test)\n",
        "\n",
        "print(\"SVM\")\n",
        "print(\"Accuracy:\", accuracy_score(y_test, y_pred))\n",
        "print(classification_report(y_test, y_pred))"
      ]
    },
    {
      "cell_type": "code",
      "execution_count": null,
      "metadata": {
        "colab": {
          "base_uri": "https://localhost:8080/"
        },
        "id": "YVIk7TH-jyRs",
        "outputId": "9a7cfab0-1ea9-4eaa-e99d-1b98ae5d289c"
      },
      "outputs": [
        {
          "name": "stdout",
          "output_type": "stream",
          "text": [
            "Random Forest\n",
            "Accuracy: 0.6839024390243903\n",
            "Recall (macro): 0.33872242117536794\n",
            "Precision (macro): 0.497393047006449\n",
            "F1 Score (macro): 0.3742783620571008\n"
          ]
        },
        {
          "name": "stderr",
          "output_type": "stream",
          "text": [
            "C:\\Users\\m1-ra\\AppData\\Roaming\\Python\\Python313\\site-packages\\sklearn\\metrics\\_classification.py:1565: UndefinedMetricWarning: Precision is ill-defined and being set to 0.0 in labels with no predicted samples. Use `zero_division` parameter to control this behavior.\n",
            "  _warn_prf(average, modifier, f\"{metric.capitalize()} is\", len(result))\n"
          ]
        }
      ],
      "source": [
        "from sklearn.ensemble import RandomForestClassifier\n",
        "from sklearn.metrics import accuracy_score, classification_report\n",
        "\n",
        "rf = RandomForestClassifier(random_state=42)\n",
        "rf.fit(x_train, y_train)\n",
        "y_pred = rf.predict(x_test)\n",
        "\n",
        "print(\"Random Forest\")\n",
        "from sklearn.metrics import recall_score, precision_score, f1_score\n",
        "print(\"Accuracy:\", accuracy_score(y_test, y_pred))\n",
        "print(\"Recall (macro):\", recall_score(y_test, y_pred, average='macro'))\n",
        "print(\"Precision (macro):\", precision_score(y_test, y_pred, average='macro'))\n",
        "print(\"F1 Score (macro):\", f1_score(y_test, y_pred, average='macro'))"
      ]
    },
    {
      "cell_type": "code",
      "execution_count": null,
      "metadata": {
        "colab": {
          "base_uri": "https://localhost:8080/"
        },
        "id": "TwsyZu40kBzq",
        "outputId": "fad53443-917f-4bea-ec6d-0cfa3f0d3d8b"
      },
      "outputs": [
        {
          "name": "stdout",
          "output_type": "stream",
          "text": [
            "Gradient Boosting\n",
            "Accuracy: 0.6809756097560976\n",
            "Recall (macro): 0.3826475077773275\n",
            "Precision (macro): 0.5491432439057424\n",
            "F1 Score (macro): 0.42911410093570107\n"
          ]
        }
      ],
      "source": [
        "from sklearn.ensemble import GradientBoostingClassifier\n",
        "from sklearn.metrics import accuracy_score,recall_score\n",
        "\n",
        "gb = GradientBoostingClassifier(random_state=42)\n",
        "gb.fit(x_train, y_train)\n",
        "y_pred = gb.predict(x_test)\n",
        "\n",
        "print(\"Gradient Boosting\")\n",
        "from sklearn.metrics import recall_score, precision_score, f1_score\n",
        "\n",
        "print(\"Accuracy:\", accuracy_score(y_test, y_pred))\n",
        "print(\"Recall (macro):\", recall_score(y_test, y_pred, average='macro'))\n",
        "print(\"Precision (macro):\", precision_score(y_test, y_pred, average='macro'))\n",
        "print(\"F1 Score (macro):\", f1_score(y_test, y_pred, average='macro'))\n"
      ]
    },
    {
      "cell_type": "markdown",
      "metadata": {},
      "source": [
        "#### The best model is the Gradient Boosting Classifier based on the evaluation metrics above."
      ]
    },
    {
      "cell_type": "markdown",
      "metadata": {},
      "source": [
        "## Saving the model"
      ]
    },
    {
      "cell_type": "code",
      "execution_count": 27,
      "metadata": {
        "id": "dEYTjm0kkHP1"
      },
      "outputs": [
        {
          "name": "stdout",
          "output_type": "stream",
          "text": [
            "✅ Model saved as model.joblib\n"
          ]
        }
      ],
      "source": [
        "import joblib\n",
        "joblib.dump(gb, \"model.joblib\")\n",
        "print(\"✅ Model saved as model.joblib\")"
      ]
    }
  ],
  "metadata": {
    "colab": {
      "provenance": []
    },
    "kernelspec": {
      "display_name": "Python 3",
      "name": "python3"
    },
    "language_info": {
      "codemirror_mode": {
        "name": "ipython",
        "version": 3
      },
      "file_extension": ".py",
      "mimetype": "text/x-python",
      "name": "python",
      "nbconvert_exporter": "python",
      "pygments_lexer": "ipython3",
      "version": "3.13.0"
    }
  },
  "nbformat": 4,
  "nbformat_minor": 0
}
